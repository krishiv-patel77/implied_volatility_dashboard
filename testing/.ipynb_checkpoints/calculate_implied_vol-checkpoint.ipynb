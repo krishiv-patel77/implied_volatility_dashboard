{
 "cells": [
  {
   "cell_type": "code",
   "execution_count": 3,
   "id": "f8bc58a3-af62-4d78-b2b7-a2744af58900",
   "metadata": {},
   "outputs": [],
   "source": [
    "import pandas as pd \n",
    "import numpy as np\n",
    "from scipy.optimize import least_squares\n",
    "import matplotlib.pyplot as plt\n",
    "import qfin"
   ]
  },
  {
   "cell_type": "markdown",
   "id": "04a0cc7a-65da-4d19-bace-c4fbfa5126b1",
   "metadata": {},
   "source": [
    "## Calculating Implied Vol"
   ]
  },
  {
   "cell_type": "code",
   "execution_count": 42,
   "id": "3d7a56e4-56da-4129-a0a2-6518863ee3dd",
   "metadata": {},
   "outputs": [],
   "source": [
    "# First measure all known metrics\n",
    "\n",
    "S = 188.53\n",
    "K = 187.5      # ATM strike \n",
    "r = 0.04\n",
    "T = 14/252     # Oct 17th expiry contract\n",
    "\n",
    "option_call_price = 6.04"
   ]
  },
  {
   "cell_type": "code",
   "execution_count": 43,
   "id": "11688e0f-8070-469d-8f30-26b25a6f13e0",
   "metadata": {},
   "outputs": [
    {
     "data": {
      "text/plain": [
       "np.float64(2.5748720829777483)"
      ]
     },
     "execution_count": 43,
     "metadata": {},
     "output_type": "execute_result"
    }
   ],
   "source": [
    "qfin.options.BlackScholesCall(asset_price=S, asset_volatility=0.1, strike_price=K, \n",
    "                              time_to_expiration=T, risk_free_rate=r).price"
   ]
  },
  {
   "cell_type": "code",
   "execution_count": 48,
   "id": "e2ed7945-686d-4f0b-8ed2-69c25f5ecc3f",
   "metadata": {},
   "outputs": [],
   "source": [
    "# You can see from the above that the volatility is really the only metric we can play with\n",
    "\n",
    "# Here is how to programmatically determine the right sigma instead of trial and error\n",
    "\n",
    "def loss_func(sigma):\n",
    "    return option_call_price - qfin.options.BlackScholesCall(asset_price=S, asset_volatility=sigma, strike_price=K, \n",
    "                              time_to_expiration=T, risk_free_rate=r).price\n",
    "\n",
    "# Now we can define a cost function and optimize the above using least squares\n",
    "implied_vol = least_squares(loss_func, [0.1]).x"
   ]
  },
  {
   "cell_type": "code",
   "execution_count": 49,
   "id": "af50e624-14ae-4de4-a14e-19c416e6ffc7",
   "metadata": {},
   "outputs": [
    {
     "data": {
      "text/plain": [
       "array([6.04])"
      ]
     },
     "execution_count": 49,
     "metadata": {},
     "output_type": "execute_result"
    }
   ],
   "source": [
    "qfin.options.BlackScholesCall(asset_price=S, asset_volatility=implied_vol, strike_price=K, \n",
    "                              time_to_expiration=T, risk_free_rate=r).price"
   ]
  },
  {
   "cell_type": "code",
   "execution_count": 50,
   "id": "1c9f53e8-9742-4c45-93b1-21ae61602dfc",
   "metadata": {},
   "outputs": [
    {
     "data": {
      "text/plain": [
       "array([7.99360578e-15])"
      ]
     },
     "execution_count": 50,
     "metadata": {},
     "output_type": "execute_result"
    }
   ],
   "source": [
    "loss_func(implied_vol)"
   ]
  },
  {
   "cell_type": "code",
   "execution_count": 51,
   "id": "d21aa01e-4071-41ad-8c79-b8cda2038b30",
   "metadata": {},
   "outputs": [
    {
     "data": {
      "text/plain": [
       "array([0.29950471])"
      ]
     },
     "execution_count": 51,
     "metadata": {},
     "output_type": "execute_result"
    }
   ],
   "source": [
    "implied_vol"
   ]
  },
  {
   "cell_type": "markdown",
   "id": "05e8b086-7dfd-4f07-8975-59be5e7abed1",
   "metadata": {},
   "source": [
    "## Analyzing Forward and Current Implied Vol"
   ]
  },
  {
   "cell_type": "code",
   "execution_count": null,
   "id": "ee303df2-339b-4ebe-b80b-27c4dc32baaf",
   "metadata": {},
   "outputs": [],
   "source": []
  }
 ],
 "metadata": {
  "kernelspec": {
   "display_name": "Python 3 (ipykernel)",
   "language": "python",
   "name": "python3"
  },
  "language_info": {
   "codemirror_mode": {
    "name": "ipython",
    "version": 3
   },
   "file_extension": ".py",
   "mimetype": "text/x-python",
   "name": "python",
   "nbconvert_exporter": "python",
   "pygments_lexer": "ipython3",
   "version": "3.13.5"
  }
 },
 "nbformat": 4,
 "nbformat_minor": 5
}
